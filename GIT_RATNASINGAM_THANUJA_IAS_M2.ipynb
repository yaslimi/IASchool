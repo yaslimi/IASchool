{
 "cells": [
  {
   "cell_type": "raw",
   "metadata": {},
   "source": [
    "VEILLE COMMANDES GIT"
   ]
  },
  {
   "cell_type": "raw",
   "metadata": {},
   "source": [
    "git clone – La commande git clone est utilisée pour la vérification des dépôts. Si le dépôt se trouve sur un serveur distant.\n",
    "\n",
    "#git clone alex@93.188.160.58:/chemin/vers/dépôt"
   ]
  },
  {
   "cell_type": "raw",
   "metadata": {},
   "source": [
    "git commit – La commande git commit permet de valider les modifications apportées au HEAD. En bref, c’est pour commiter l'instantané stagé de tous les changements apportés au répertoire de travail.\n",
    "\n",
    "#git commit –m “Description du commit”"
   ]
  },
  {
   "cell_type": "raw",
   "metadata": {},
   "source": [
    "git push –Un simple push envoie/publie les modifications locales apportées à la branche principale associée et les charge vers le dépôt distant afin de partager les modifications avec les autres membres de l’équipe distants. Le push est susceptible d'écraser les changements.\n",
    "\n",
    "#git push origin master"
   ]
  },
  {
   "cell_type": "raw",
   "metadata": {},
   "source": [
    "git pull – Pour fusionner toutes les modifications présentes sur le dépôt distant dans le répertoire de travail local. Cette commande télécharge les données des commits qui n'ont pas encore été récupérées dans la branche locale puis fusionne ensuite ces données."
   ]
  },
  {
   "cell_type": "raw",
   "metadata": {},
   "source": [
    "git init – Cette commande est utilisée pour créer un nouveau dépôt GIT."
   ]
  },
  {
   "cell_type": "raw",
   "metadata": {},
   "source": [
    "git config - global user.name – git config - global user.email – \n",
    "L’une des commandes git les plus utilisées est git config. On l’utilise pour configurer les préférences de l’utilisateur : son mail, le nom d’utilisateur, le format de fichier etc. C’est une information importante car toutes les validations dans Git utilisent cette information et elle est indélébile dans toutes les validations que l’on peut réaliser.  Par exemple, les commandes suivantes peuvent être utilisées pour définir le mail ou nom d’un utilisateur :\n",
    "\n",
    "#git config --global user.name \"John Doe\"\n",
    "#git config --global user.email johndoe@example.com"
   ]
  },
  {
   "cell_type": "raw",
   "metadata": {},
   "source": [
    "git add – La commande git add peut être utilisée pour ajouter des fichiers à l’index. Par exemple, la commande suivante ajoutera un fichier nommé temp.txt dans le répertoire local de l’index :\n",
    "\n",
    "#git add temp.txt"
   ]
  },
  {
   "cell_type": "raw",
   "metadata": {},
   "source": [
    "git status – La commande git status affiche la liste des fichiers modifiés ainsi que les fichiers qui doivent encore être ajoutés ou validés. "
   ]
  },
  {
   "cell_type": "raw",
   "metadata": {},
   "source": [
    "git log – L’exécution de la commande git log génère le log d’une branche. Le comportement du log par défaut consiste à afficher l’historique de la référence courante depuis son tout premier commit.\n",
    "Voici un exemple qui n’affiche que les 10 derniers commits depuis la position courante de HEAD :\n",
    "\n",
    "#git lg -10"
   ]
  },
  {
   "cell_type": "raw",
   "metadata": {},
   "source": [
    "git checkout - La commande git checkout peut être utilisée pour créer des branches ou pour basculer entre elles. Par exemple nous allons créer une branche :\n",
    "\n",
    "#git checkout -b <nom-branche>"
   ]
  }
 ],
 "metadata": {
  "kernelspec": {
   "display_name": "Python 3",
   "language": "python",
   "name": "python3"
  },
  "language_info": {
   "codemirror_mode": {
    "name": "ipython",
    "version": 3
   },
   "file_extension": ".py",
   "mimetype": "text/x-python",
   "name": "python",
   "nbconvert_exporter": "python",
   "pygments_lexer": "ipython3",
   "version": "3.8.3"
  }
 },
 "nbformat": 4,
 "nbformat_minor": 4
}
